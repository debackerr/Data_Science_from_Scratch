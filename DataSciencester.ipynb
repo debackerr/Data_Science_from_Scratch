{
 "cells": [
  {
   "cell_type": "code",
   "execution_count": 1,
   "metadata": {},
   "outputs": [],
   "source": [
    "import networkx as nx\n",
    "import matplotlib.pyplot as plt"
   ]
  },
  {
   "cell_type": "code",
   "execution_count": 2,
   "metadata": {},
   "outputs": [],
   "source": [
    "users = [\n",
    "    { \"id\":0, \"name\":\"Hero\"},\n",
    "    { \"id\":1, \"name\": \"Dunn\"},\n",
    "    { \"id\":2, \"name\":\"Sue\"},\n",
    "    { \"id\":3, \"name\":\"Chi\"},\n",
    "    { \"id\":4, \"name\":\"Thor\"},\n",
    "    { \"id\":5, \"name\":\"Clive\"},\n",
    "    { \"id\":6, \"name\":\"Hicks\"},\n",
    "    { \"id\":7, \"name\":\"Devin\"},\n",
    "    { \"id\":8, \"name\":\"Kate\"},\n",
    "    { \"id\":9, \"name\":\"Klein\"}\n",
    "]\n",
    "\n",
    "friendships = [ (0,1), (0,2), (1,2), (1,3), (2,3), (3,4),\\\n",
    "    (4,5), (5,6), (5,7), (6,8), (7,8), (8,9) ]"
   ]
  },
  {
   "cell_type": "code",
   "execution_count": 3,
   "metadata": {},
   "outputs": [
    {
     "data": {
      "image/png": "[encoded data removed]",
      "text/plain": [
       "<Figure size 640x480 with 1 Axes>"
      ]
     },
     "metadata": {},
     "output_type": "display_data"
    }
   ],
   "source": [
    "net = nx.Graph()\n",
    "net.add_nodes_from( range(0,10) )\n",
    "net.add_edges_from(friendships)\n",
    "nx.draw( net, with_labels=True, node_color= [(0.223, 0.4, 0.227)], font_size = 8, font_color='white' )\n",
    "plt.show()"
   ]
  },
  {
   "cell_type": "code",
   "execution_count": 4,
   "metadata": {},
   "outputs": [],
   "source": [
    "# creating an empty list of users\n",
    "for user in users:\n",
    "    user[\"friends\"] = []\n",
    "\n",
    "# populating the users' list:\n",
    "for i, j in friendships:\n",
    "    # works because all provided users' id come from a linear range of 0-9\n",
    "    users[i][\"friends\"].append( users[j] ) #adds \"i\" as friends with \"j\"\n",
    "    users[j][\"friends\"].append( users[i])  #adds \"j\" as friends with \"i\""
   ]
  },
  {
   "cell_type": "code",
   "execution_count": 5,
   "metadata": {},
   "outputs": [],
   "source": [
    "def number_of_friends(user):\n",
    "    \"\"\"how many friends does this user has?\"\"\"\n",
    "    return ( len(user[\"friends\"]) ) # length of friends' id"
   ]
  },
  {
   "cell_type": "code",
   "execution_count": 9,
   "metadata": {},
   "outputs": [
    {
     "name": "stdout",
     "output_type": "stream",
     "text": [
      "Total number of connections in DataSciencester: 24\n",
      "Average number of connections: 2.4\n"
     ]
    }
   ],
   "source": [
    "total_connections = sum(number_of_friends(user) for user in users)\n",
    "num_users = len(users) # length of the users list\n",
    "avg_connections= total_connections/num_users\n",
    "\n",
    "print(\"Total number of connections in DataSciencester: \" + str(total_connections))\n",
    "print(\"Average number of connections: \" + str(avg_connections))"
   ]
  },
  {
   "cell_type": "code",
   "execution_count": 16,
   "metadata": {},
   "outputs": [
    {
     "data": {
      "text/plain": [
       "[(1, 3),\n",
       " (2, 3),\n",
       " (3, 3),\n",
       " (5, 3),\n",
       " (8, 3),\n",
       " (0, 2),\n",
       " (4, 2),\n",
       " (6, 2),\n",
       " (7, 2),\n",
       " (9, 1)]"
      ]
     },
     "execution_count": 16,
     "metadata": {},
     "output_type": "execute_result"
    }
   ],
   "source": [
    "# creating a list (user_id, number_of_friends) for each user in users list\n",
    "num_of_friends_by_id = [ (user[\"id\"], number_of_friends(user)) for user in users]\n",
    "sorted( num_of_friends_by_id, key=lambda id_and_friends: id_and_friends[1], reverse=True )\n"
   ]
  },
  {
   "cell_type": "code",
   "execution_count": 20,
   "metadata": {},
   "outputs": [
    {
     "data": {
      "text/plain": [
       "[0, 2, 3, 0, 1, 3]"
      ]
     },
     "execution_count": 20,
     "metadata": {},
     "output_type": "execute_result"
    }
   ],
   "source": [
    "def foaf_ids_bad(user):\n",
    "    \"\"\"foaf is short for 'friend of a friend' \"\"\"\n",
    "    return[ foaf[\"id\"] for friend in user[\"friends\"]\\\n",
    "        for foaf in friend[\"friends\"]]\n",
    "\n",
    "foaf_ids_bad(users[0]) # Hero"
   ]
  },
  {
   "cell_type": "code",
   "execution_count": 22,
   "metadata": {},
   "outputs": [
    {
     "data": {
      "text/plain": [
       "Counter({0: 2, 5: 1})"
      ]
     },
     "execution_count": 22,
     "metadata": {},
     "output_type": "execute_result"
    }
   ],
   "source": [
    "from collections import Counter\n",
    "\n",
    "def not_the_Same( user, other_user):\n",
    "    \"\"\" two users are not the same if they have different id's\"\"\"\n",
    "    return user[\"id\"] != other_user[\"id\"]\n",
    "\n",
    "def not_friends( user, other_user):\n",
    "    \"\"\" other_user is not friends with user if its not in user's friendlist\"\"\"\n",
    "    return all( not_the_Same(friend, other_user) for friend in user[\"friends\"] )\n",
    "\n",
    "def friends_of_friends_ids(user):\n",
    "    return Counter( foaf[\"id\"] for friend in user[\"friends\"]\\\n",
    "        for foaf in friend[\"friends\"] if not_the_Same(user, foaf) and not_friends(user,foaf))\n",
    "    # for each one of my friends that count as \"their\" friends and that are not mine me or my friends\n",
    "\n",
    "\n",
    "friends_of_friends_ids( users[3] )"
   ]
  },
  {
   "cell_type": "code",
   "execution_count": 23,
   "metadata": {},
   "outputs": [],
   "source": [
    "interests = [\n",
    "(0, \"Hadoop\"), (0, \"Big Data\"), (0, \"HBase\"), (0, \"Java\"),\n",
    "(0, \"Spark\"), (0, \"Storm\"), (0, \"Cassandra\"),\n",
    "(1, \"NoSQL\"), (1, \"MongoDB\"), (1, \"Cassandra\"), (1, \"HBase\"),\n",
    "(1, \"Postgres\"), (2, \"Python\"), (2, \"scikit-learn\"), (2, \"scipy\"),\n",
    "(2, \"numpy\"), (2, \"statsmodels\"), (2, \"pandas\"), (3, \"R\"), (3, \"Python\"),\n",
    "(3, \"statistics\"), (3, \"regression\"), (3, \"probability\"),\n",
    "(4, \"machine learning\"), (4, \"regression\"), (4, \"decision trees\"),\n",
    "(4, \"libsvm\"), (5, \"Python\"), (5, \"R\"), (5, \"Java\"), (5, \"C++\"),\n",
    "(5, \"Haskell\"), (5, \"programming languages\"), (6, \"statistics\"),\n",
    "(6, \"probability\"), (6, \"mathematics\"), (6, \"theory\"),\n",
    "(7, \"machine learning\"), (7, \"scikit-learn\"), (7, \"Mahout\"),\n",
    "(7, \"neural networks\"), (8, \"neural networks\"), (8, \"deep learning\"),\n",
    "(8, \"Big Data\"), (8, \"artificial intelligence\"), (9, \"Hadoop\"),\n",
    "(9, \"Java\"), (9, \"MapReduce\"), (9, \"Big Data\")\n",
    "]\n"
   ]
  },
  {
   "cell_type": "code",
   "execution_count": 33,
   "metadata": {},
   "outputs": [],
   "source": [
    "# Finding users with the same interest:\n",
    "def data_scientists_who_like(target_interest):\n",
    "    return[ user_id for user_id, user_interest in interests \\\n",
    "        if user_interest == target_interest]\n",
    "\n",
    "# works, but INEFFICIENTLY \n",
    "# its better to include an index for each user:\n",
    "\n",
    "from collections import defaultdict\n",
    "# the KEYS are the interets, the values are lists of user_ids with the interest in question\n",
    "\n",
    "user_id_by_interest = defaultdict(list)\n",
    "for user_id, interest in interests:\n",
    "    user_id_by_interest[interest].append(user_id)\n",
    "    user_id_by_interest[user_id].append(interest)\n",
    "\n"
   ]
  },
  {
   "cell_type": "code",
   "execution_count": 34,
   "metadata": {},
   "outputs": [],
   "source": [
    "salaries_and_tenures = [\n",
    "(83000, 8.7), (88000, 8.1),\n",
    "(48000, 0.7), (76000, 6),\n",
    "(69000, 6.5), (76000, 7.5),\n",
    "(60000, 2.5), (83000, 10),\n",
    "(48000, 1.9), (63000, 4.2)\n",
    "]"
   ]
  },
  {
   "cell_type": "code",
   "execution_count": 39,
   "metadata": {},
   "outputs": [
    {
     "data": {
      "image/png": "[encoded data removed]",
      "text/plain": [
       "<Figure size 640x480 with 1 Axes>"
      ]
     },
     "metadata": {},
     "output_type": "display_data"
    }
   ],
   "source": [
    "# making a scatter plot:\n",
    "x_index_years = []\n",
    "y_index_salaries = []\n",
    "\n",
    "for index in salaries_and_tenures:\n",
    "    x_index_years.append( index[1] )\n",
    "    y_index_salaries.append( index[0] )\n",
    "\n",
    "\n",
    "salaries_per_experience = plt.scatter( x=x_index_years, y=y_index_salaries, c=[(0.223, 0.4, 0.227)])\n",
    "plt.xlabel(\"Years of Experience\")\n",
    "plt.ylabel(\"Salary\")\n",
    "plt.title(\"Salary per years of experience\")\n",
    "plt.show()"
   ]
  },
  {
   "cell_type": "code",
   "execution_count": 49,
   "metadata": {},
   "outputs": [
    {
     "data": {
      "text/plain": [
       "{8.7: 83000.0,\n",
       " 8.1: 88000.0,\n",
       " 0.7: 48000.0,\n",
       " 6: 76000.0,\n",
       " 6.5: 69000.0,\n",
       " 7.5: 76000.0,\n",
       " 2.5: 60000.0,\n",
       " 10: 83000.0,\n",
       " 1.9: 48000.0,\n",
       " 4.2: 63000.0}"
      ]
     },
     "execution_count": 49,
     "metadata": {},
     "output_type": "execute_result"
    }
   ],
   "source": [
    "# Analyzing the average salary for each tenure\n",
    "salary_by_tenure = defaultdict(list)\n",
    "# the keys are years, the values are lists of salaries per tenure\n",
    "\n",
    "for salary,tenure in salaries_and_tenures:\n",
    "    salary_by_tenure[tenure].append(salary)\n",
    "\n",
    "average_salary_by_tenure = {\n",
    "    tenure: sum(salaries)/len(salaries) \\\n",
    "        for tenure,salaries in salary_by_tenure.items()\n",
    "}\n",
    "\n",
    "average_salary_by_tenure\n",
    "\n",
    "# This turns out to be not particularly useful, as none of the users have the\n",
    "# same tenure, which means we’re just reporting the individual users’ salaries:\n"
   ]
  },
  {
   "cell_type": "code",
   "execution_count": 53,
   "metadata": {},
   "outputs": [
    {
     "data": {
      "text/plain": [
       "{'more than five': 79166.66666666667,\n",
       " 'less then two': 48000.0,\n",
       " 'between two and five': 61500.0}"
      ]
     },
     "execution_count": 53,
     "metadata": {},
     "output_type": "execute_result"
    }
   ],
   "source": [
    "# Grouping results:\n",
    "\n",
    "def tenure_bucket(tenure):\n",
    "    if tenure < 2:\n",
    "        return \"less then two\"\n",
    "    elif tenure < 5:\n",
    "        return \"between two and five\"\n",
    "    else:\n",
    "        return \"more than five\"\n",
    "\n",
    "# Keys are tenure buckets, values are lists of salaries for that bucket\n",
    "\n",
    "salary_by_tenure_bucket = defaultdict(list)\n",
    "for salary,tenure in salaries_and_tenures:\n",
    "    bucket = tenure_bucket(tenure)\n",
    "    salary_by_tenure_bucket[bucket].append(salary)\n",
    "\n",
    "average_salary_by_bucket = {\n",
    "    tenure_bucket : sum(salaries)/len(salaries)\\\n",
    "        for tenure_bucket,salaries in salary_by_tenure_bucket.items()\n",
    "}\n",
    "\n",
    "average_salary_by_bucket"
   ]
  },
  {
   "cell_type": "code",
   "execution_count": 56,
   "metadata": {},
   "outputs": [],
   "source": [
    "paid_accounts = [\n",
    "    (0.7, 'paid'), (1.9, 'unpaid'), (2.5, 'paid'),\n",
    "    (4.2, 'unpaid'),(6.0, 'unpaid'),(6.5,'unpaid'),\n",
    "    (7.5, 'unpaid'),(8.1, 'unpaid'),(8.7, 'paid'),(10.0, 'paid')\n",
    "]"
   ]
  },
  {
   "cell_type": "code",
   "execution_count": 57,
   "metadata": {},
   "outputs": [],
   "source": [
    "def predict_paid_or_unpaid(years_experience):\n",
    "    if years_experience < 3.0:\n",
    "        return \"paid\"\n",
    "    elif years_experience < 8.5:\n",
    "        return \"unpaid\"\n",
    "    else:\n",
    "        return \"paid\"\n"
   ]
  },
  {
   "cell_type": "code",
   "execution_count": 63,
   "metadata": {},
   "outputs": [
    {
     "name": "stdout",
     "output_type": "stream",
     "text": [
      "big 3\n",
      "data 3\n",
      "java 3\n",
      "python 3\n",
      "learning 3\n",
      "hadoop 2\n",
      "hbase 2\n",
      "cassandra 2\n",
      "scikit-learn 2\n",
      "r 2\n",
      "statistics 2\n",
      "regression 2\n",
      "probability 2\n",
      "machine 2\n",
      "neural 2\n",
      "networks 2\n"
     ]
    }
   ],
   "source": [
    "words_and_counts = Counter(word\n",
    "for user, interest in interests\n",
    "for word in interest.lower().split())\n",
    "\n",
    "for word,count in words_and_counts.most_common():\n",
    "    if count > 1:\n",
    "        print( word, count)\n"
   ]
  },
  {
   "cell_type": "code",
   "execution_count": null,
   "metadata": {},
   "outputs": [],
   "source": []
  }
 ],
 "metadata": {
  "kernelspec": {
   "display_name": "Python 3",
   "language": "python",
   "name": "python3"
  },
  "language_info": {
   "codemirror_mode": {
    "name": "ipython",
    "version": 3
   },
   "file_extension": ".py",
   "mimetype": "text/x-python",
   "name": "python",
   "nbconvert_exporter": "python",
   "pygments_lexer": "ipython3",
   "version": "3.11.1"
  },
  "orig_nbformat": 4,
  "vscode": {
   "interpreter": {
    "hash": "e986ca3364bb2732067f8259f0d51a6f1f239c16840561b9eaa8b51dfb2794b4"
   }
  }
 },
 "nbformat": 4,
 "nbformat_minor": 2
}
